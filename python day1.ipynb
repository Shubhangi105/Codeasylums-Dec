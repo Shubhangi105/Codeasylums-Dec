{
 "cells": [
  {
   "cell_type": "code",
   "execution_count": 16,
   "metadata": {},
   "outputs": [],
   "source": [
    "#reverse numbers, find the sum and then reverse the sum\n",
    "def reverse(num):\n",
    "    return num[::-1]"
   ]
  },
  {
   "cell_type": "code",
   "execution_count": 15,
   "metadata": {
    "scrolled": true
   },
   "outputs": [
    {
     "name": "stdout",
     "output_type": "stream",
     "text": [
      "2\n",
      "34 56\n",
      "<class 'list'>\n",
      "801\n",
      "34 345\n",
      "<class 'list'>\n",
      "685\n"
     ]
    }
   ],
   "source": [
    "a= int(input())\n",
    "for i in range(0,a):\n",
    "    b = input()\n",
    "    m = reverse(b)\n",
    "    k = list(map(int, m.split()))\n",
    "    print(type(k))\n",
    "    #for i in range(len(m)):\n",
    "        #m_list = int(m.split())\n",
    "    \n",
    "    print(reverse(str(sum(k))))"
   ]
  },
  {
   "cell_type": "code",
   "execution_count": 33,
   "metadata": {},
   "outputs": [
    {
     "name": "stdout",
     "output_type": "stream",
     "text": [
      "yes\n",
      "9\n"
     ]
    }
   ],
   "source": [
    "#q2- linear search using python\n",
    "def search1(x, arr):\n",
    "    for i in range(len(arr)):\n",
    "        if arr[i]==x:\n",
    "            print('yes')\n",
    "            print(i)\n",
    "        \n",
    "a1= [2, 3, 4, 6,4 ,9,78, 45, 67, 23, 5, 8, 2]\n",
    "search1(23, a1)"
   ]
  },
  {
   "cell_type": "code",
   "execution_count": 49,
   "metadata": {},
   "outputs": [
    {
     "name": "stdout",
     "output_type": "stream",
     "text": [
      "2\n",
      "56 76 34 21 987\n",
      "76\n",
      "5 6 3 6 6 7 9 8 7 7 2\n",
      "8\n"
     ]
    }
   ],
   "source": [
    "#q3- Second highest number\n",
    "n = int(input())\n",
    "for i in range(0,n):\n",
    "    arr = map(int, input().split())\n",
    "    m = set(arr)\n",
    "    m = sorted(m, reverse=True)\n",
    "    print(m[1])"
   ]
  },
  {
   "cell_type": "code",
   "execution_count": 52,
   "metadata": {},
   "outputs": [
    {
     "name": "stdout",
     "output_type": "stream",
     "text": [
      "2\n",
      "3\n",
      "15.0\n",
      "7\n",
      "77.0\n"
     ]
    }
   ],
   "source": [
    "#q4 CRDS\n",
    "n = int(input())\n",
    "for i in range(0,n):\n",
    "    n = int(input())\n",
    "    s= (2*n*(n+1)/2) + (n*(n-1)/2)\n",
    "    print(s)"
   ]
  },
  {
   "cell_type": "code",
   "execution_count": null,
   "metadata": {},
   "outputs": [],
   "source": [
    "from operator import mul\n",
    "from functools import reduce\n",
    " \n",
    "class Solution:\n",
    "    def subtractProductAndSum(self, n: int) -> int:\n",
    "        temp = list(map(int, ' '.join(str(n)).split()))\n",
    "        return reduce(mul, temp, 1) - sum(temp)"
   ]
  }
 ],
 "metadata": {
  "kernelspec": {
   "display_name": "Python 3",
   "language": "python",
   "name": "python3"
  },
  "language_info": {
   "codemirror_mode": {
    "name": "ipython",
    "version": 3
   },
   "file_extension": ".py",
   "mimetype": "text/x-python",
   "name": "python",
   "nbconvert_exporter": "python",
   "pygments_lexer": "ipython3",
   "version": "3.7.3"
  }
 },
 "nbformat": 4,
 "nbformat_minor": 2
}
