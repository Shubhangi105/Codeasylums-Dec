{
 "cells": [
  {
   "cell_type": "code",
   "execution_count": 1,
   "metadata": {},
   "outputs": [],
   "source": [
    "import pandas as pd\n",
    "import numpy as np\n",
    "import math\n",
    "import operator"
   ]
  },
  {
   "cell_type": "code",
   "execution_count": 71,
   "metadata": {},
   "outputs": [],
   "source": [
    "def Distance(row1, row2):\n",
    "    distance = 0.0\n",
    "    for i in range(len(row1)-1):\n",
    "        distance += (row1[i] - row2[i])**2\n",
    "    return np.sqrt(distance)"
   ]
  },
  {
   "cell_type": "code",
   "execution_count": 86,
   "metadata": {},
   "outputs": [],
   "source": [
    "def knn(training_ds, testing_ds, n):\n",
    "    distances=[]\n",
    "    neighbours =[]\n",
    "    for i in training_ds:\n",
    "        d = Distance(testing_ds, i)\n",
    "        distances.append((i, d))\n",
    "    distances.sort(key=lambda x: x[0])\n",
    "    \n",
    "    for j in range(n+1):\n",
    "        neighbours.append(distances[j][0])\n",
    "    return neighbours\n",
    "        "
   ]
  },
  {
   "cell_type": "code",
   "execution_count": 87,
   "metadata": {},
   "outputs": [
    {
     "name": "stdout",
     "output_type": "stream",
     "text": [
      "[ 3.          2.44948974  1.73205081  1.41421356 81.0863737   6.55743852\n",
      "  6.70820393  8.18535277]\n"
     ]
    }
   ],
   "source": [
    "o =[9,6,3,2,6575,43,45,67]\n",
    "m= np.sqrt(o)\n",
    "print(m)\n"
   ]
  },
  {
   "cell_type": "code",
   "execution_count": 88,
   "metadata": {},
   "outputs": [],
   "source": [
    "data = [[2.7810836,2.550537003,0], \n",
    "        [1.465489372,2.362125076,0],\n",
    "        [3.396561688,4.400293529,0],\n",
    "        [1.38807019,1.850220317,0],\n",
    "        [3.06407232,3.005305973,0],\n",
    "        [7.627531214,2.759262235,1],\n",
    "        [5.332441248,2.088626775,1],\n",
    "        [6.922596716,1.77106367,1],\n",
    "        [8.675418651,-0.242068655,1],\n",
    "        [7.673756466,3.508563011,1]]"
   ]
  },
  {
   "cell_type": "code",
   "execution_count": 89,
   "metadata": {},
   "outputs": [
    {
     "name": "stdout",
     "output_type": "stream",
     "text": [
      "[[1.38807019, 1.850220317, 0], [1.465489372, 2.362125076, 0], [2.7810836, 2.550537003, 0], [3.06407232, 3.005305973, 0]]\n"
     ]
    }
   ],
   "source": [
    "n=3\n",
    "neighbours = knn(data, data[0], n)\n",
    "print(neighbours)"
   ]
  },
  {
   "cell_type": "code",
   "execution_count": 100,
   "metadata": {},
   "outputs": [],
   "source": [
    "output_values = [row for row in neighbours]\n",
    "prediction = max((output_values))"
   ]
  },
  {
   "cell_type": "code",
   "execution_count": 101,
   "metadata": {},
   "outputs": [
    {
     "name": "stdout",
     "output_type": "stream",
     "text": [
      "0\n"
     ]
    }
   ],
   "source": [
    "print(prediction[-1])\n"
   ]
  },
  {
   "cell_type": "code",
   "execution_count": null,
   "metadata": {},
   "outputs": [],
   "source": []
  }
 ],
 "metadata": {
  "kernelspec": {
   "display_name": "Python 3",
   "language": "python",
   "name": "python3"
  },
  "language_info": {
   "codemirror_mode": {
    "name": "ipython",
    "version": 3
   },
   "file_extension": ".py",
   "mimetype": "text/x-python",
   "name": "python",
   "nbconvert_exporter": "python",
   "pygments_lexer": "ipython3",
   "version": "3.7.3"
  }
 },
 "nbformat": 4,
 "nbformat_minor": 2
}
