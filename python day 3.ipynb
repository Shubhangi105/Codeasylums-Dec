{
 "cells": [
  {
   "cell_type": "code",
   "execution_count": 13,
   "metadata": {},
   "outputs": [
    {
     "data": {
      "text/plain": [
       "2"
      ]
     },
     "execution_count": 13,
     "metadata": {},
     "output_type": "execute_result"
    }
   ],
   "source": [
    "#q1\n",
    "o =['ang','dgguyegh','euhuiwh','eyhe','hwiuhiuh']\n",
    "countWords(o)"
   ]
  },
  {
   "cell_type": "code",
   "execution_count": 12,
   "metadata": {},
   "outputs": [],
   "source": [
    "def countWords(words):\n",
    "    count=0;\n",
    "    for word in words:\n",
    "        if len(word)>2 and word[0]==word[-1]:\n",
    "            count+=1\n",
    "    return count"
   ]
  },
  {
   "cell_type": "code",
   "execution_count": 3,
   "metadata": {},
   "outputs": [
    {
     "data": {
      "text/plain": [
       "['a1', 'b2', 'c3']"
      ]
     },
     "execution_count": 3,
     "metadata": {},
     "output_type": "execute_result"
    }
   ],
   "source": [
    "#q2\n",
    "from operator import add\n",
    "a= ['a','b','c','d']\n",
    "b= ['1','2','3']\n",
    "list(map(add, a, b))"
   ]
  },
  {
   "cell_type": "code",
   "execution_count": 58,
   "metadata": {},
   "outputs": [
    {
     "data": {
      "text/plain": [
       "['a1', 'b2', 'c3']"
      ]
     },
     "execution_count": 58,
     "metadata": {},
     "output_type": "execute_result"
    }
   ],
   "source": [
    "#q2\n",
    "list(map(lambda a, b: a+''+b, a, b))\n"
   ]
  },
  {
   "cell_type": "code",
   "execution_count": 5,
   "metadata": {},
   "outputs": [
    {
     "name": "stdout",
     "output_type": "stream",
     "text": [
      "{1: 1, 2: 4, 3: 9, 4: 16, 5: 25, 6: 36, 7: 49, 8: 64, 9: 81, 10: 100, 11: 121, 12: 144, 13: 169, 14: 196}\n"
     ]
    }
   ],
   "source": [
    "#q3\n",
    "d= dict()\n",
    "for x in range(1,15):\n",
    "    d[x]= x**2\n",
    "    \n",
    "print(d)"
   ]
  },
  {
   "cell_type": "code",
   "execution_count": 140,
   "metadata": {},
   "outputs": [
    {
     "name": "stdout",
     "output_type": "stream",
     "text": [
      "['a', 'b', 'c']\n"
     ]
    }
   ],
   "source": [
    "#q4\n",
    "d ={1:'a', 2:'b', 3:'c', 4:'c'}\n",
    "list1 = list(d.values())\n",
    "list2=[]\n",
    "for i in list1:\n",
    "    if i not in list2:\n",
    "        list2.append(i)\n",
    "    \n",
    "print(list2)"
   ]
  },
  {
   "cell_type": "code",
   "execution_count": 56,
   "metadata": {},
   "outputs": [
    {
     "name": "stdout",
     "output_type": "stream",
     "text": [
      "A111\n",
      "A117\n",
      "A112\n"
     ]
    }
   ],
   "source": [
    "#q5\n",
    "shop ={'A111':28088, 'A112':8687, 'A113': 762, 'A114':6456, 'A115':7656, 'A116': 87987, 'A117':8798, 'A118':7678, 'A119':435}\n",
    "m= list((shop.values()))\n",
    "m.sort(reverse= True)\n",
    "s= m[1:4]\n",
    "for i in range(0,3):\n",
    "    \n",
    "    for key, value in shop.items():\n",
    "        if value == s[i]: print(key)    "
   ]
  },
  {
   "cell_type": "code",
   "execution_count": 141,
   "metadata": {},
   "outputs": [
    {
     "name": "stdout",
     "output_type": "stream",
     "text": [
      "0\n"
     ]
    }
   ],
   "source": [
    "#q6\n",
    "a1 = {1:'e', 2:[2, 3 ,4, 5, 7, 4], 3: 'm', 4: [2, 4, 6]}\n",
    "print(sum([len(a1[i]) for i in a1 if type(a1[i])=='list']))\n"
   ]
  },
  {
   "cell_type": "code",
   "execution_count": 149,
   "metadata": {},
   "outputs": [
    {
     "name": "stdout",
     "output_type": "stream",
     "text": [
      "{1: 184.8, 2: 184.8, 3: 184.8, 4: 184.8, 5: 46}\n"
     ]
    }
   ],
   "source": [
    "#q7\n",
    "a2 = {1:4, 2:66, 3:43, 4:765, 5:46}\n",
    "average= sum(a2.values())/float(len(a2))\n",
    "for i in range(1,len(a2)):\n",
    "    a2[i]=average\n",
    "    \n",
    "print(a2)"
   ]
  },
  {
   "cell_type": "code",
   "execution_count": 154,
   "metadata": {},
   "outputs": [
    {
     "data": {
      "text/plain": [
       "(2, 5, 3214, 57654, 8767, 93052, 2593, 493, 249)"
      ]
     },
     "execution_count": 154,
     "metadata": {},
     "output_type": "execute_result"
    }
   ],
   "source": [
    "#q8\n",
    "myTuple= (2,5,3214,57654,5364,8767,93052,2593,493,249)\n",
    "myList = list(myTuple)\n",
    "myList.pop(4)\n",
    "myTuple_new= tuple(myList)\n",
    "myTuple_new"
   ]
  },
  {
   "cell_type": "code",
   "execution_count": 158,
   "metadata": {},
   "outputs": [],
   "source": [
    "def Palindrome(word):\n",
    "    rev= word[::-1]\n",
    "    \n",
    "    if(word==rev):\n",
    "        return True\n",
    "    return False\n"
   ]
  },
  {
   "cell_type": "code",
   "execution_count": 164,
   "metadata": {},
   "outputs": [
    {
     "name": "stdout",
     "output_type": "stream",
     "text": [
      "thyht\n",
      "opppo\n"
     ]
    }
   ],
   "source": [
    "#q9\n",
    "m= ['jkksjj','thyht', 'thfdt', 'uuytuy', 'opppo']\n",
    "for i in range(0, len(m)):\n",
    "    if(Palindrome(m[i])==True):\n",
    "        print(m[i])"
   ]
  },
  {
   "cell_type": "code",
   "execution_count": 177,
   "metadata": {},
   "outputs": [
    {
     "name": "stdout",
     "output_type": "stream",
     "text": [
      "1\n",
      "2\n",
      "3\n",
      "4\n",
      "5\n"
     ]
    }
   ],
   "source": [
    "#q10\n",
    "dict1= {1: 9, 2: -5, 3: 4, 4:-9, 5:-7}\n",
    "def negative(x):\n",
    "    if x>0:\n",
    "        return True\n",
    "    else:\n",
    "        return False\n",
    "    \n",
    "result = filter(negative, dict1)\n",
    "for s in result:\n",
    "    print(s)"
   ]
  },
  {
   "cell_type": "code",
   "execution_count": 178,
   "metadata": {},
   "outputs": [
    {
     "name": "stdout",
     "output_type": "stream",
     "text": [
      "['funny', 'electricity']\n"
     ]
    }
   ],
   "source": [
    "#q11\n",
    "def Filter(string, substring):\n",
    "    return[str for str in string if any(sub in str for sub in substring)]\n",
    "string =['fantastic','funny', 'electricity', 'subsidy']\n",
    "substring = ['fun','city']\n",
    "print(Filter(string, substring))"
   ]
  },
  {
   "cell_type": "code",
   "execution_count": null,
   "metadata": {},
   "outputs": [],
   "source": []
  }
 ],
 "metadata": {
  "kernelspec": {
   "display_name": "Python 3",
   "language": "python",
   "name": "python3"
  },
  "language_info": {
   "codemirror_mode": {
    "name": "ipython",
    "version": 3
   },
   "file_extension": ".py",
   "mimetype": "text/x-python",
   "name": "python",
   "nbconvert_exporter": "python",
   "pygments_lexer": "ipython3",
   "version": "3.7.3"
  }
 },
 "nbformat": 4,
 "nbformat_minor": 2
}
